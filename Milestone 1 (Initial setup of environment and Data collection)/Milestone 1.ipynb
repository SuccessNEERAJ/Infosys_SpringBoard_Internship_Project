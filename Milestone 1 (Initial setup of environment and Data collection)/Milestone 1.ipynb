{
  "nbformat": 4,
  "nbformat_minor": 0,
  "metadata": {
    "colab": {
      "provenance": []
    },
    "kernelspec": {
      "name": "python3",
      "display_name": "Python 3"
    },
    "language_info": {
      "name": "python"
    }
  },
  "cells": [
    {
      "cell_type": "code",
      "source": [
        "!pip install requests pandas openpyxl --quiet\n",
        "import requests\n",
        "import pandas as pd\n",
        "\n",
        "api_key = 'f25f7be0c8f4b7903ee9ee56dc97c72a'\n",
        "base_url = \"https://gnews.io/api/v4/search\"\n",
        "params = {\n",
        "    'q': 'supply chain disruption',\n",
        "    'lang': 'en',\n",
        "    'country': 'us',\n",
        "    'max': 10,  # Number of articles\n",
        "    'token': api_key  # API key\n",
        "}\n",
        "\n",
        "response = requests.get(base_url, params=params)\n",
        "if response.status_code == 200:\n",
        "    print(\"API request successful!\")\n",
        "    data = response.json()\n",
        "else:\n",
        "    print(f\"Error: {response.status_code} - {response.text}\")\n",
        "\n",
        "if 'articles' in data:\n",
        "    articles = data['articles']\n",
        "    news_df = pd.DataFrame([{\n",
        "        'Title': article['title'],\n",
        "        'Description': article['description'],\n",
        "        'Source': article['source']['name'],\n",
        "        'Published Date': article['publishedAt'],\n",
        "        'URL': article['url']\n",
        "    } for article in articles])\n",
        "\n",
        "    print(\"Collected News Articles:\")\n",
        "    print(news_df)\n",
        "\n",
        "    # Save as CSV\n",
        "    news_df.to_csv(\"supply_chain_news.csv\", index=False)\n",
        "\n",
        "    # Save as Excel\n",
        "    news_df.to_excel(\"supply_chain_news.xlsx\", index=False, engine='openpyxl')\n",
        "\n",
        "else:\n",
        "    print(\"No articles found.\")\n",
        "\n",
        "print(\"\\nTop News Titles:\")\n",
        "for idx, title in enumerate(news_df['Title'], start=1):\n",
        "    print(f\"{idx}. {title}\")\n"
      ],
      "metadata": {
        "colab": {
          "base_uri": "https://localhost:8080/"
        },
        "id": "KIqX-z2IA3Sc",
        "outputId": "881a9845-2786-47ff-b607-0b54c2052b9e"
      },
      "execution_count": 12,
      "outputs": [
        {
          "output_type": "stream",
          "name": "stdout",
          "text": [
            "API request successful!\n",
            "Collected News Articles:\n",
            "                                               Title  \\\n",
            "0  Shipping giant Maersk sees another year of dis...   \n",
            "1  Retail outages drag into second week after Blu...   \n",
            "2  UK, US retail giants hit by ongoing disruption...   \n",
            "3  Medical equipment makers call for more domesti...   \n",
            "4  SONAR's data is free during the hurricane disr...   \n",
            "5         Stay ahead of hurricane threats with SONAR   \n",
            "6  Taiwan earthquake will disrupt chipmakers that...   \n",
            "7  Port of Baltimore calamity shows supply chain’...   \n",
            "8  Leggett's 8% Yield Is Great; 8% Yielding Arist...   \n",
            "9  How a Fertilizer Shortage Is Spreading Despera...   \n",
            "\n",
            "                                         Description              Source  \\\n",
            "0  From Trump tariffs on China and Mexico to the ...                CNBC   \n",
            "1  A ransomware attack on supply chain software g...          TechCrunch   \n",
            "2  The Arizona-based firm said it has \"no timelin...          TechCrunch   \n",
            "3  The American Medical Manufacturers Association...        FreightWaves   \n",
            "4  Due to the high risk of supply chain disruptio...        FreightWaves   \n",
            "5  Due to the high risk of supply chain disruptio...        FreightWaves   \n",
            "6  Taiwan's biggest earthquake since 1999 is like...       New York Post   \n",
            "7  New technology and processes in supply chains ...        FreightWaves   \n",
            "8  Leggett's pandemic supply chain disruption and...       Seeking Alpha   \n",
            "9  Across Africa and in parts of Asia, disruption...  The New York Times   \n",
            "\n",
            "         Published Date                                                URL  \n",
            "0  2024-12-13T14:39:26Z  https://www.cnbc.com/2024/12/13/shipping-giant...  \n",
            "1  2024-12-02T12:38:39Z  https://techcrunch.com/2024/12/02/retail-outag...  \n",
            "2  2024-11-26T14:00:05Z  https://techcrunch.com/2024/11/26/major-uk-us-...  \n",
            "3  2024-11-04T15:52:11Z  https://www.freightwaves.com/news/medical-equi...  \n",
            "4  2024-10-09T17:54:32Z  https://www.freightwaves.com/news/sonar-data-i...  \n",
            "5  2024-10-08T18:45:56Z  https://www.freightwaves.com/news/10-days-of-s...  \n",
            "6  2024-04-03T17:00:50Z  https://nypost.com/2024/04/03/business/taiwan-...  \n",
            "7  2024-04-01T16:10:37Z  https://www.freightwaves.com/news/port-of-balt...  \n",
            "8  2023-12-07T12:30:00Z  https://seekingalpha.com/article/4656433-legge...  \n",
            "9  2023-10-15T09:02:12Z  https://www.nytimes.com/2023/10/15/business/ni...  \n",
            "\n",
            "Top News Titles:\n",
            "1. Shipping giant Maersk sees another year of disruption for global trade\n",
            "2. Retail outages drag into second week after Blue Yonder ransomware attack\n",
            "3. UK, US retail giants hit by ongoing disruption after ransomware attack on supply chain firm\n",
            "4. Medical equipment makers call for more domestic production, tariffs\n",
            "5. SONAR's data is free during the hurricane disruptions\n",
            "6. Stay ahead of hurricane threats with SONAR\n",
            "7. Taiwan earthquake will disrupt chipmakers that supply Apple, Nvidia: analysts\n",
            "8. Port of Baltimore calamity shows supply chain’s vulnerabilities\n",
            "9. Leggett's 8% Yield Is Great; 8% Yielding Aristocrats Are Much Better Buys\n",
            "10. How a Fertilizer Shortage Is Spreading Desperate Hunger\n"
          ]
        }
      ]
    }
  ]
}